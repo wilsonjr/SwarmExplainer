{
 "cells": [
  {
   "cell_type": "code",
   "execution_count": 1,
   "metadata": {},
   "outputs": [],
   "source": [
    "from swarm_explainer import SwarmExplainer\n",
    "\n",
    "import numpy as np\n",
    "\n",
    "from sklearn.model_selection import train_test_split\n",
    "from sklearn.linear_model import LogisticRegression\n",
    "\n",
    "from sklearn.metrics import accuracy_score\n",
    "\n",
    "from sklearn.datasets import load_iris"
   ]
  },
  {
   "cell_type": "markdown",
   "metadata": {},
   "source": [
    "## Load dataset"
   ]
  },
  {
   "cell_type": "code",
   "execution_count": 10,
   "metadata": {},
   "outputs": [],
   "source": [
    "iris = load_iris()\n",
    "X, y = iris.data, iris.target\n",
    "feature_names = iris.feature_names\n",
    "\n",
    "X_backup = X.copy()\n",
    "y_backup = y.copy()\n",
    "\n",
    "# y = y + abs(min(y))\n",
    "# min_value = np.min(X)\n",
    "# if min_value < 0.0:\n",
    "#     X = X + abs(min_value)\n",
    "\n",
    "# to ensure that the feature perturbations will affect all of the dataset.\n",
    "X = X+0.0001\n",
    "\n",
    "X_train, X_test, y_train, y_test = train_test_split(X, y, test_size=0.2, random_state=0)\n"
   ]
  },
  {
   "cell_type": "markdown",
   "metadata": {},
   "source": [
    "## Fitting models"
   ]
  },
  {
   "cell_type": "code",
   "execution_count": 11,
   "metadata": {
    "scrolled": true
   },
   "outputs": [
    {
     "name": "stdout",
     "output_type": "stream",
     "text": [
      ">> Acc all: 1.00000\n",
      ">> Acc 0: 1.00000\n",
      ">> Acc 1: 1.00000\n",
      ">> Acc 2: 1.00000\n"
     ]
    }
   ],
   "source": [
    "lr = LogisticRegression()\n",
    "lr.fit(X_train, y_train)\n",
    "\n",
    "model =  lr\n",
    "print(\">> Acc all: %.5f\" % (accuracy_score(y_test, model.predict(X_test))))\n",
    "print(\">> Acc 0: %.5f\" % (accuracy_score(y_test[y_test == 0], model.predict(X_test[y_test == 0]))))\n",
    "print(\">> Acc 1: %.5f\" % (accuracy_score(y_test[y_test == 1], model.predict(X_test[y_test == 1]))))\n",
    "print(\">> Acc 2: %.5f\" % (accuracy_score(y_test[y_test == 2], model.predict(X_test[y_test == 2]))))\n"
   ]
  },
  {
   "cell_type": "code",
   "execution_count": 12,
   "metadata": {},
   "outputs": [],
   "source": [
    "swarm = SwarmExplainer(max_it=100, N=10, m=X_test.shape[1], model=model, feature_names=feature_names, n_classes=len(np.unique(y)), verbose=True)\n",
    "\n",
    "\n",
    "\n",
    "\n"
   ]
  },
  {
   "cell_type": "code",
   "execution_count": 13,
   "metadata": {},
   "outputs": [
    {
     "name": "stderr",
     "output_type": "stream",
     "text": [
      "  0%|          | 0/3 [00:00<?, ?it/s]"
     ]
    },
    {
     "name": "stdout",
     "output_type": "stream",
     "text": [
      "Finding feature weights for class 0...\n",
      "Feature 0 => epoch 10/100\n",
      "Feature 2 => epoch 10/100\n",
      "Feature 3 => epoch 10/100\n",
      "Feature 1 => epoch 10/100\n",
      "Feature 3 => epoch 20/100\n",
      "Feature 2 => epoch 20/100\n",
      "Feature 0 => epoch 20/100\n",
      "Feature 1 => epoch 20/100\n",
      "Feature 3 => epoch 30/100\n",
      "Feature 2 => epoch 30/100\n",
      "Feature 0 => epoch 30/100\n",
      "Feature 3 => epoch 40/100\n",
      "Feature 2 => epoch 40/100\n",
      "Feature 0 => epoch 40/100\n",
      "Feature 1 => epoch 30/100\n",
      "Feature 3 => epoch 50/100\n",
      "Feature 2 => epoch 50/100\n",
      "Feature 0 => epoch 50/100\n",
      "Feature 3 => epoch 60/100\n",
      "Feature 2 => epoch 60/100\n",
      "Feature 0 => epoch 60/100\n",
      "Feature 1 => epoch 40/100\n",
      "Feature 3 => epoch 70/100\n",
      "Feature 2 => epoch 70/100\n",
      "Feature 0 => epoch 70/100\n",
      "Feature 3 => epoch 80/100\n",
      "Feature 1 => epoch 50/100\n",
      "Feature 2 => epoch 80/100\n",
      "Feature 0 => epoch 80/100\n",
      "Feature 3 => epoch 90/100\n",
      "Feature 2 => epoch 90/100\n",
      "Feature 0 => epoch 90/100\n",
      "Feature 1 => epoch 60/100\n",
      "Feature 3 => epoch 100/100\n",
      "Done for feature 3.\n",
      "Feature 2 => epoch 100/100\n",
      "Feature 0 => epoch 100/100\n",
      "Done for feature 2.\n",
      "Done for feature 0.\n",
      "Feature 1 => epoch 70/100\n",
      "Feature 1 => epoch 80/100\n",
      "Feature 1 => epoch 90/100\n"
     ]
    },
    {
     "name": "stderr",
     "output_type": "stream",
     "text": [
      " 33%|███▎      | 1/3 [00:20<00:41, 20.99s/it]"
     ]
    },
    {
     "name": "stdout",
     "output_type": "stream",
     "text": [
      "Feature 1 => epoch 100/100\n",
      "Done for feature 1.\n",
      "Done finding weights!\n",
      "Now computing importances!\n",
      "\n",
      "Finding feature weights for class 1...\n",
      "Feature 1 => epoch 10/100\n",
      "Feature 3 => epoch 10/100\n",
      "Feature 0 => epoch 10/100\n",
      "Feature 2 => epoch 10/100\n",
      "Feature 1 => epoch 20/100\n",
      "Feature 3 => epoch 20/100\n",
      "Feature 2 => epoch 20/100\n",
      "Feature 0 => epoch 20/100\n",
      "Feature 1 => epoch 30/100\n",
      "Feature 3 => epoch 30/100\n",
      "Feature 0 => epoch 30/100\n",
      "Feature 2 => epoch 30/100\n",
      "Feature 1 => epoch 40/100\n",
      "Feature 3 => epoch 40/100\n",
      "Feature 0 => epoch 40/100\n",
      "Feature 2 => epoch 40/100\n",
      "Feature 1 => epoch 50/100\n",
      "Feature 3 => epoch 50/100\n",
      "Feature 0 => epoch 50/100\n",
      "Feature 2 => epoch 50/100\n",
      "Feature 1 => epoch 60/100\n",
      "Feature 3 => epoch 60/100\n",
      "Feature 0 => epoch 60/100\n",
      "Feature 2 => epoch 60/100\n",
      "Feature 1 => epoch 70/100\n",
      "Feature 3 => epoch 70/100\n",
      "Feature 0 => epoch 70/100\n",
      "Feature 2 => epoch 70/100\n",
      "Feature 1 => epoch 80/100\n",
      "Feature 3 => epoch 80/100\n",
      "Feature 0 => epoch 80/100\n",
      "Feature 2 => epoch 80/100\n",
      "Feature 1 => epoch 90/100\n",
      "Feature 0 => epoch 90/100\n",
      "Feature 3 => epoch 90/100\n",
      "Feature 2 => epoch 90/100\n",
      "Feature 1 => epoch 100/100\n",
      "Done for feature 1.\n",
      "Feature 0 => epoch 100/100\n",
      "Feature 2 => epoch 100/100\n",
      "Feature 3 => epoch 100/100\n"
     ]
    },
    {
     "name": "stderr",
     "output_type": "stream",
     "text": [
      " 67%|██████▋   | 2/3 [00:54<00:24, 24.77s/it]"
     ]
    },
    {
     "name": "stdout",
     "output_type": "stream",
     "text": [
      "Done for feature 0.\n",
      "Done for feature 2.\n",
      "Done for feature 3.\n",
      "Done finding weights!\n",
      "Now computing importances!\n",
      "\n",
      "Finding feature weights for class 2...\n",
      "Feature 1 => epoch 10/100\n",
      "Feature 0 => epoch 10/100\n",
      "Feature 2 => epoch 10/100\n",
      "Feature 3 => epoch 10/100\n",
      "Feature 1 => epoch 20/100\n",
      "Feature 0 => epoch 20/100\n",
      "Feature 2 => epoch 20/100\n",
      "Feature 3 => epoch 20/100\n",
      "Feature 1 => epoch 30/100\n",
      "Feature 0 => epoch 30/100\n",
      "Feature 2 => epoch 30/100\n",
      "Feature 3 => epoch 30/100\n",
      "Feature 1 => epoch 40/100\n",
      "Feature 0 => epoch 40/100\n",
      "Feature 2 => epoch 40/100\n",
      "Feature 3 => epoch 40/100\n",
      "Feature 1 => epoch 50/100\n",
      "Feature 0 => epoch 50/100\n",
      "Feature 2 => epoch 50/100\n",
      "Feature 3 => epoch 50/100\n",
      "Feature 1 => epoch 60/100\n",
      "Feature 0 => epoch 60/100\n",
      "Feature 2 => epoch 60/100\n",
      "Feature 3 => epoch 60/100\n",
      "Feature 1 => epoch 70/100\n",
      "Feature 0 => epoch 70/100\n",
      "Feature 2 => epoch 70/100\n",
      "Feature 3 => epoch 70/100\n",
      "Feature 1 => epoch 80/100\n",
      "Feature 0 => epoch 80/100\n",
      "Feature 2 => epoch 80/100\n",
      "Feature 3 => epoch 80/100\n",
      "Feature 1 => epoch 90/100\n",
      "Feature 3 => epoch 90/100\n",
      "Feature 2 => epoch 90/100\n",
      "Feature 0 => epoch 90/100\n",
      "Feature 1 => epoch 100/100\n",
      "Done for feature 1.\n",
      "Feature 3 => epoch 100/100\n",
      "Feature 2 => epoch 100/100\n",
      "Feature 0 => epoch 100/100\n",
      "Done for feature 3."
     ]
    },
    {
     "name": "stderr",
     "output_type": "stream",
     "text": [
      "100%|██████████| 3/3 [01:24<00:00, 28.24s/it]"
     ]
    },
    {
     "name": "stdout",
     "output_type": "stream",
     "text": [
      "\n",
      "Done for feature 2.\n",
      "Done for feature 0.\n",
      "Done finding weights!\n",
      "Now computing importances!\n",
      "\n"
     ]
    },
    {
     "name": "stderr",
     "output_type": "stream",
     "text": [
      "\n"
     ]
    }
   ],
   "source": [
    "swarm.fit_transform(X_test, y_test)"
   ]
  },
  {
   "cell_type": "code",
   "execution_count": 15,
   "metadata": {},
   "outputs": [
    {
     "name": "stderr",
     "output_type": "stream",
     "text": [
      "C:\\Users\\wilso\\Anaconda3\\envs\\ia-tools\\lib\\site-packages\\seaborn\\distributions.py:2557: FutureWarning: `distplot` is a deprecated function and will be removed in a future version. Please adapt your code to use either `displot` (a figure-level function with similar flexibility) or `histplot` (an axes-level function for histograms).\n",
      "  warnings.warn(msg, FutureWarning)\n",
      "C:\\Users\\wilso\\Anaconda3\\envs\\ia-tools\\lib\\site-packages\\swarm_explainer\\explainer.py:368: UserWarning: This figure includes Axes that are not compatible with tight_layout, so results might be incorrect.\n",
      "  fig.tight_layout()\n"
     ]
    },
    {
     "data": {
      "image/png": "[encoded data removed]",
      "text/plain": [
       "<Figure size 864x316.8 with 13 Axes>"
      ]
     },
     "metadata": {
      "needs_background": "light"
     },
     "output_type": "display_data"
    }
   ],
   "source": [
    "swarm.plot_importance(0, X_backup, y_backup, plot_execution=True, show_best=True)"
   ]
  },
  {
   "cell_type": "code",
   "execution_count": 9,
   "metadata": {},
   "outputs": [
    {
     "name": "stderr",
     "output_type": "stream",
     "text": [
      "C:\\Users\\wilso\\Anaconda3\\envs\\ia-tools\\lib\\site-packages\\seaborn\\distributions.py:2557: FutureWarning: `distplot` is a deprecated function and will be removed in a future version. Please adapt your code to use either `displot` (a figure-level function with similar flexibility) or `histplot` (an axes-level function for histograms).\n",
      "  warnings.warn(msg, FutureWarning)\n",
      "C:\\Users\\wilso\\Anaconda3\\envs\\ia-tools\\lib\\site-packages\\swarm_explainer\\explainer.py:368: UserWarning: This figure includes Axes that are not compatible with tight_layout, so results might be incorrect.\n",
      "  fig.tight_layout()\n"
     ]
    },
    {
     "data": {
      "image/png": "[encoded data removed]",
      "text/plain": [
       "<Figure size 864x316.8 with 13 Axes>"
      ]
     },
     "metadata": {
      "needs_background": "light"
     },
     "output_type": "display_data"
    }
   ],
   "source": [
    "swarm.plot_importance(1, X_backup, y_backup, plot_execution=False, show_best=False)"
   ]
  },
  {
   "cell_type": "code",
   "execution_count": 8,
   "metadata": {},
   "outputs": [
    {
     "name": "stderr",
     "output_type": "stream",
     "text": [
      "C:\\Users\\wilso\\Anaconda3\\envs\\ia-tools\\lib\\site-packages\\seaborn\\distributions.py:2557: FutureWarning: `distplot` is a deprecated function and will be removed in a future version. Please adapt your code to use either `displot` (a figure-level function with similar flexibility) or `histplot` (an axes-level function for histograms).\n",
      "  warnings.warn(msg, FutureWarning)\n",
      "C:\\Users\\wilso\\Documents\\EUROVIS-SWARM\\swarm_importance\\__init__.py:368: UserWarning: This figure includes Axes that are not compatible with tight_layout, so results might be incorrect.\n",
      "  fig.tight_layout()\n"
     ]
    },
    {
     "data": {
      "image/png": "[encoded data removed]",
      "text/plain": [
       "<Figure size 864x316.8 with 13 Axes>"
      ]
     },
     "metadata": {
      "needs_background": "light"
     },
     "output_type": "display_data"
    }
   ],
   "source": [
    "swarm.plot_importance(2, X_backup, y_backup, plot_execution=True, show_best=True, filepath='datasets/figs/iris-class2.pdf')"
   ]
  },
  {
   "cell_type": "code",
   "execution_count": 9,
   "metadata": {},
   "outputs": [
    {
     "data": {
      "text/html": [
       "<div>\n",
       "<style scoped>\n",
       "    .dataframe tbody tr th:only-of-type {\n",
       "        vertical-align: middle;\n",
       "    }\n",
       "\n",
       "    .dataframe tbody tr th {\n",
       "        vertical-align: top;\n",
       "    }\n",
       "\n",
       "    .dataframe thead th {\n",
       "        text-align: right;\n",
       "    }\n",
       "</style>\n",
       "<table border=\"1\" class=\"dataframe\">\n",
       "  <thead>\n",
       "    <tr style=\"text-align: right;\">\n",
       "      <th></th>\n",
       "      <th>names</th>\n",
       "      <th>w</th>\n",
       "      <th>acc</th>\n",
       "      <th>importances</th>\n",
       "    </tr>\n",
       "  </thead>\n",
       "  <tbody>\n",
       "    <tr>\n",
       "      <th>1</th>\n",
       "      <td>sepal width (cm)</td>\n",
       "      <td>1.000000</td>\n",
       "      <td>0.366667</td>\n",
       "      <td>3.635538</td>\n",
       "    </tr>\n",
       "    <tr>\n",
       "      <th>2</th>\n",
       "      <td>petal length (cm)</td>\n",
       "      <td>1.177908</td>\n",
       "      <td>0.366667</td>\n",
       "      <td>3.630000</td>\n",
       "    </tr>\n",
       "    <tr>\n",
       "      <th>0</th>\n",
       "      <td>sepal length (cm)</td>\n",
       "      <td>0.000000</td>\n",
       "      <td>0.000000</td>\n",
       "      <td>0.000000</td>\n",
       "    </tr>\n",
       "    <tr>\n",
       "      <th>3</th>\n",
       "      <td>petal width (cm)</td>\n",
       "      <td>0.000000</td>\n",
       "      <td>0.000000</td>\n",
       "      <td>0.000000</td>\n",
       "    </tr>\n",
       "  </tbody>\n",
       "</table>\n",
       "</div>"
      ],
      "text/plain": [
       "               names         w       acc  importances\n",
       "1   sepal width (cm)  1.000000  0.366667     3.635538\n",
       "2  petal length (cm)  1.177908  0.366667     3.630000\n",
       "0  sepal length (cm)  0.000000  0.000000     0.000000\n",
       "3   petal width (cm)  0.000000  0.000000     0.000000"
      ]
     },
     "execution_count": 9,
     "metadata": {},
     "output_type": "execute_result"
    }
   ],
   "source": [
    "swarm.important_features(klass=0)"
   ]
  },
  {
   "cell_type": "code",
   "execution_count": 10,
   "metadata": {},
   "outputs": [
    {
     "data": {
      "text/html": [
       "<div>\n",
       "<style scoped>\n",
       "    .dataframe tbody tr th:only-of-type {\n",
       "        vertical-align: middle;\n",
       "    }\n",
       "\n",
       "    .dataframe tbody tr th {\n",
       "        vertical-align: top;\n",
       "    }\n",
       "\n",
       "    .dataframe thead th {\n",
       "        text-align: right;\n",
       "    }\n",
       "</style>\n",
       "<table border=\"1\" class=\"dataframe\">\n",
       "  <thead>\n",
       "    <tr style=\"text-align: right;\">\n",
       "      <th></th>\n",
       "      <th>names</th>\n",
       "      <th>importances</th>\n",
       "    </tr>\n",
       "  </thead>\n",
       "  <tbody>\n",
       "    <tr>\n",
       "      <th>0</th>\n",
       "      <td>petal length (cm)</td>\n",
       "      <td>9.945844</td>\n",
       "    </tr>\n",
       "    <tr>\n",
       "      <th>3</th>\n",
       "      <td>sepal width (cm)</td>\n",
       "      <td>8.255538</td>\n",
       "    </tr>\n",
       "    <tr>\n",
       "      <th>1</th>\n",
       "      <td>petal width (cm)</td>\n",
       "      <td>6.295298</td>\n",
       "    </tr>\n",
       "    <tr>\n",
       "      <th>2</th>\n",
       "      <td>sepal length (cm)</td>\n",
       "      <td>6.289201</td>\n",
       "    </tr>\n",
       "  </tbody>\n",
       "</table>\n",
       "</div>"
      ],
      "text/plain": [
       "               names  importances\n",
       "0  petal length (cm)     9.945844\n",
       "3   sepal width (cm)     8.255538\n",
       "1   petal width (cm)     6.295298\n",
       "2  sepal length (cm)     6.289201"
      ]
     },
     "execution_count": 10,
     "metadata": {},
     "output_type": "execute_result"
    }
   ],
   "source": [
    "swarm.important_features()"
   ]
  },
  {
   "cell_type": "code",
   "execution_count": null,
   "metadata": {},
   "outputs": [],
   "source": []
  }
 ],
 "metadata": {
  "interpreter": {
   "hash": "2148699b56f9138f99cf0c5d8e3b91653fbe2d8c631dc3892bc81ad96e2b8408"
  },
  "kernelspec": {
   "display_name": "Python 3",
   "language": "python",
   "name": "python3"
  },
  "language_info": {
   "codemirror_mode": {
    "name": "ipython",
    "version": 3
   },
   "file_extension": ".py",
   "mimetype": "text/x-python",
   "name": "python",
   "nbconvert_exporter": "python",
   "pygments_lexer": "ipython3",
   "version": "3.6.9"
  }
 },
 "nbformat": 4,
 "nbformat_minor": 4
}
